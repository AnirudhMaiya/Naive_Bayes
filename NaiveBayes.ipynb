{
  "nbformat": 4,
  "nbformat_minor": 0,
  "metadata": {
    "colab": {
      "name": "NaiveBayes.ipynb",
      "version": "0.3.2",
      "provenance": []
    },
    "kernelspec": {
      "name": "python3",
      "display_name": "Python 3"
    },
    "accelerator": "GPU"
  },
  "cells": [
    {
      "cell_type": "code",
      "metadata": {
        "id": "fWlUaQE2qA-x",
        "colab_type": "code",
        "colab": {}
      },
      "source": [
        "import pandas as pd\n",
        "import numpy as np\n",
        "from math import *\n"
      ],
      "execution_count": 0,
      "outputs": []
    },
    {
      "cell_type": "code",
      "metadata": {
        "id": "cpw51fdLqMvH",
        "colab_type": "code",
        "colab": {
          "base_uri": "https://localhost:8080/",
          "height": 54
        },
        "outputId": "4e05a466-5bc5-47a8-d185-63e3ba218cf8"
      },
      "source": [
        "!unzip /content/pima-indians-diabetes-database.zip"
      ],
      "execution_count": 2,
      "outputs": [
        {
          "output_type": "stream",
          "text": [
            "Archive:  /content/pima-indians-diabetes-database.zip\n",
            "  inflating: diabetes.csv            \n"
          ],
          "name": "stdout"
        }
      ]
    },
    {
      "cell_type": "code",
      "metadata": {
        "id": "majXWJPXqfLY",
        "colab_type": "code",
        "colab": {}
      },
      "source": [
        "df = pd.read_csv('diabetes.csv')\n",
        "x = df.to_numpy()  #(768,9)"
      ],
      "execution_count": 0,
      "outputs": []
    },
    {
      "cell_type": "code",
      "metadata": {
        "id": "OSXu1gV8rbRZ",
        "colab_type": "code",
        "colab": {
          "base_uri": "https://localhost:8080/",
          "height": 363
        },
        "outputId": "339d1044-4301-4d57-81d5-1fa91f0305ce"
      },
      "source": [
        "df.head(10)"
      ],
      "execution_count": 7,
      "outputs": [
        {
          "output_type": "execute_result",
          "data": {
            "text/html": [
              "<div>\n",
              "<style scoped>\n",
              "    .dataframe tbody tr th:only-of-type {\n",
              "        vertical-align: middle;\n",
              "    }\n",
              "\n",
              "    .dataframe tbody tr th {\n",
              "        vertical-align: top;\n",
              "    }\n",
              "\n",
              "    .dataframe thead th {\n",
              "        text-align: right;\n",
              "    }\n",
              "</style>\n",
              "<table border=\"1\" class=\"dataframe\">\n",
              "  <thead>\n",
              "    <tr style=\"text-align: right;\">\n",
              "      <th></th>\n",
              "      <th>Pregnancies</th>\n",
              "      <th>Glucose</th>\n",
              "      <th>BloodPressure</th>\n",
              "      <th>SkinThickness</th>\n",
              "      <th>Insulin</th>\n",
              "      <th>BMI</th>\n",
              "      <th>DiabetesPedigreeFunction</th>\n",
              "      <th>Age</th>\n",
              "      <th>Outcome</th>\n",
              "    </tr>\n",
              "  </thead>\n",
              "  <tbody>\n",
              "    <tr>\n",
              "      <th>0</th>\n",
              "      <td>6</td>\n",
              "      <td>148</td>\n",
              "      <td>72</td>\n",
              "      <td>35</td>\n",
              "      <td>0</td>\n",
              "      <td>33.6</td>\n",
              "      <td>0.627</td>\n",
              "      <td>50</td>\n",
              "      <td>1</td>\n",
              "    </tr>\n",
              "    <tr>\n",
              "      <th>1</th>\n",
              "      <td>1</td>\n",
              "      <td>85</td>\n",
              "      <td>66</td>\n",
              "      <td>29</td>\n",
              "      <td>0</td>\n",
              "      <td>26.6</td>\n",
              "      <td>0.351</td>\n",
              "      <td>31</td>\n",
              "      <td>0</td>\n",
              "    </tr>\n",
              "    <tr>\n",
              "      <th>2</th>\n",
              "      <td>8</td>\n",
              "      <td>183</td>\n",
              "      <td>64</td>\n",
              "      <td>0</td>\n",
              "      <td>0</td>\n",
              "      <td>23.3</td>\n",
              "      <td>0.672</td>\n",
              "      <td>32</td>\n",
              "      <td>1</td>\n",
              "    </tr>\n",
              "    <tr>\n",
              "      <th>3</th>\n",
              "      <td>1</td>\n",
              "      <td>89</td>\n",
              "      <td>66</td>\n",
              "      <td>23</td>\n",
              "      <td>94</td>\n",
              "      <td>28.1</td>\n",
              "      <td>0.167</td>\n",
              "      <td>21</td>\n",
              "      <td>0</td>\n",
              "    </tr>\n",
              "    <tr>\n",
              "      <th>4</th>\n",
              "      <td>0</td>\n",
              "      <td>137</td>\n",
              "      <td>40</td>\n",
              "      <td>35</td>\n",
              "      <td>168</td>\n",
              "      <td>43.1</td>\n",
              "      <td>2.288</td>\n",
              "      <td>33</td>\n",
              "      <td>1</td>\n",
              "    </tr>\n",
              "    <tr>\n",
              "      <th>5</th>\n",
              "      <td>5</td>\n",
              "      <td>116</td>\n",
              "      <td>74</td>\n",
              "      <td>0</td>\n",
              "      <td>0</td>\n",
              "      <td>25.6</td>\n",
              "      <td>0.201</td>\n",
              "      <td>30</td>\n",
              "      <td>0</td>\n",
              "    </tr>\n",
              "    <tr>\n",
              "      <th>6</th>\n",
              "      <td>3</td>\n",
              "      <td>78</td>\n",
              "      <td>50</td>\n",
              "      <td>32</td>\n",
              "      <td>88</td>\n",
              "      <td>31.0</td>\n",
              "      <td>0.248</td>\n",
              "      <td>26</td>\n",
              "      <td>1</td>\n",
              "    </tr>\n",
              "    <tr>\n",
              "      <th>7</th>\n",
              "      <td>10</td>\n",
              "      <td>115</td>\n",
              "      <td>0</td>\n",
              "      <td>0</td>\n",
              "      <td>0</td>\n",
              "      <td>35.3</td>\n",
              "      <td>0.134</td>\n",
              "      <td>29</td>\n",
              "      <td>0</td>\n",
              "    </tr>\n",
              "    <tr>\n",
              "      <th>8</th>\n",
              "      <td>2</td>\n",
              "      <td>197</td>\n",
              "      <td>70</td>\n",
              "      <td>45</td>\n",
              "      <td>543</td>\n",
              "      <td>30.5</td>\n",
              "      <td>0.158</td>\n",
              "      <td>53</td>\n",
              "      <td>1</td>\n",
              "    </tr>\n",
              "    <tr>\n",
              "      <th>9</th>\n",
              "      <td>8</td>\n",
              "      <td>125</td>\n",
              "      <td>96</td>\n",
              "      <td>0</td>\n",
              "      <td>0</td>\n",
              "      <td>0.0</td>\n",
              "      <td>0.232</td>\n",
              "      <td>54</td>\n",
              "      <td>1</td>\n",
              "    </tr>\n",
              "  </tbody>\n",
              "</table>\n",
              "</div>"
            ],
            "text/plain": [
              "   Pregnancies  Glucose  BloodPressure  ...  DiabetesPedigreeFunction  Age  Outcome\n",
              "0            6      148             72  ...                     0.627   50        1\n",
              "1            1       85             66  ...                     0.351   31        0\n",
              "2            8      183             64  ...                     0.672   32        1\n",
              "3            1       89             66  ...                     0.167   21        0\n",
              "4            0      137             40  ...                     2.288   33        1\n",
              "5            5      116             74  ...                     0.201   30        0\n",
              "6            3       78             50  ...                     0.248   26        1\n",
              "7           10      115              0  ...                     0.134   29        0\n",
              "8            2      197             70  ...                     0.158   53        1\n",
              "9            8      125             96  ...                     0.232   54        1\n",
              "\n",
              "[10 rows x 9 columns]"
            ]
          },
          "metadata": {
            "tags": []
          },
          "execution_count": 7
        }
      ]
    },
    {
      "cell_type": "code",
      "metadata": {
        "id": "9MueprGGqi33",
        "colab_type": "code",
        "colab": {
          "base_uri": "https://localhost:8080/",
          "height": 35
        },
        "outputId": "f79d20be-3021-4d85-c46b-cdb3945e32ca"
      },
      "source": [
        "data = x[0:760]  # last 8 examples for test\n",
        "test = x[760:768]\n",
        "data.shape,test.shape\n"
      ],
      "execution_count": 37,
      "outputs": [
        {
          "output_type": "execute_result",
          "data": {
            "text/plain": [
              "((760, 9), (8, 9))"
            ]
          },
          "metadata": {
            "tags": []
          },
          "execution_count": 37
        }
      ]
    },
    {
      "cell_type": "code",
      "metadata": {
        "id": "WnA-XXSxqnLG",
        "colab_type": "code",
        "colab": {}
      },
      "source": [
        "data_0 = []   #class 0 data\n",
        "data_1 = []   #class 1 data\n",
        "for i in range(760):\n",
        "  if(data[i,8] == 0.0):\n",
        "    data_0.append(data[i][0:8])\n",
        "  elif(data[i,8] == 1.0):\n",
        "    data_1.append(data[i][0:8])\n",
        "    "
      ],
      "execution_count": 0,
      "outputs": []
    },
    {
      "cell_type": "code",
      "metadata": {
        "id": "OaNG1TSdreOZ",
        "colab_type": "code",
        "colab": {
          "base_uri": "https://localhost:8080/",
          "height": 35
        },
        "outputId": "5d92d059-8cbf-4485-d4a5-470e22580287"
      },
      "source": [
        "data_0 = np.array(data_0)\n",
        "data_1 = np.array(data_1)\n",
        "data_0.shape,data_1.shape"
      ],
      "execution_count": 10,
      "outputs": [
        {
          "output_type": "execute_result",
          "data": {
            "text/plain": [
              "((494, 8), (266, 8))"
            ]
          },
          "metadata": {
            "tags": []
          },
          "execution_count": 10
        }
      ]
    },
    {
      "cell_type": "code",
      "metadata": {
        "id": "heTFT1Znrgxe",
        "colab_type": "code",
        "colab": {}
      },
      "source": [
        "mean_0 = []              # mean of features belonging to class 0\n",
        "variance_0 = []          # variance of features belonging to class 0\n",
        "mean_1 = []              # mean of features belonging to class 1\n",
        "variance_1 = []          # variance of features belonging to class 1\n",
        "\n",
        "for i in range(8):\n",
        "  mean_0.append(np.mean(data_0[:,i]))          \n",
        "  variance_0.append(np.var(data_0[:,i]))\n",
        "  mean_1.append(np.mean(data_1[:,i]))\n",
        "  variance_1.append(np.var(data_1[:,i]))\n",
        "  "
      ],
      "execution_count": 0,
      "outputs": []
    },
    {
      "cell_type": "code",
      "metadata": {
        "id": "nx9qxBa7r8QO",
        "colab_type": "code",
        "colab": {}
      },
      "source": [
        "mean = [mean_0,mean_1]                    #concatinating means\n",
        "variance = [variance_0,variance_1]"
      ],
      "execution_count": 0,
      "outputs": []
    },
    {
      "cell_type": "code",
      "metadata": {
        "id": "orLT484YsBmK",
        "colab_type": "code",
        "colab": {}
      },
      "source": [
        "prior = [data_0.shape[0]/760, data_1.shape[0]/ 760]   # prior probability"
      ],
      "execution_count": 0,
      "outputs": []
    },
    {
      "cell_type": "code",
      "metadata": {
        "id": "erXGRiRJsY69",
        "colab_type": "code",
        "colab": {
          "base_uri": "https://localhost:8080/",
          "height": 92
        },
        "outputId": "83c21b21-e013-4dd1-90aa-446537964774"
      },
      "source": [
        "print(mean)\n",
        "print(variance)\n",
        "print(prior)"
      ],
      "execution_count": 14,
      "outputs": [
        {
          "output_type": "stream",
          "text": [
            "[[3.279352226720648, 110.07287449392713, 68.18623481781377, 19.589068825910932, 69.00404858299595, 30.31356275303644, 0.43094736842105263, 31.168016194331983], [4.864661654135339, 141.20676691729324, 70.85338345864662, 22.214285714285715, 101.09022556390977, 35.12819548872181, 0.5518120300751879, 37.00751879699248]]\n",
            "[[9.015079742333098, 687.1161467980135, 329.123211329476, 221.06797767542497, 9810.036420855939, 59.46850026225638, 0.089711900063925, 135.1114466718025], [13.929051953191248, 1019.9910820283793, 463.1551953191249, 311.60445757250267, 19230.721182655885, 52.55826516479167, 0.1389329421109164, 120.24806376844366]]\n",
            "[0.65, 0.35]\n"
          ],
          "name": "stdout"
        }
      ]
    },
    {
      "cell_type": "code",
      "metadata": {
        "id": "ejlOv6yjsd8a",
        "colab_type": "code",
        "colab": {}
      },
      "source": [
        "#gaussian distribution\n",
        "def normpdf(x, mean, var):\n",
        "    denom = (2*math.pi*var)**.5\n",
        "    num = np.exp(-((x)-(mean))**2/(2*var))\n",
        "    return num/denom"
      ],
      "execution_count": 0,
      "outputs": []
    },
    {
      "cell_type": "markdown",
      "metadata": {
        "id": "_Gz3l4d5s6NN",
        "colab_type": "text"
      },
      "source": [
        " \n",
        " \n",
        " P( y | x ) =  P( x | y ) * P(y)   / P(X) \n",
        "\n",
        "\n",
        "                              "
      ]
    },
    {
      "cell_type": "code",
      "metadata": {
        "id": "483N_Xv5t3C8",
        "colab_type": "code",
        "colab": {}
      },
      "source": [
        "#P(y | x) Posterior\n",
        "def posterior(mean,var,X):\n",
        "  posterior = [1,1]\n",
        "  for i in range(0,2):\n",
        "    for j in range(0,8):\n",
        "      posterior[i] = posterior[i] * normpdf(X[j],mean[i][j],var[i][j])\n",
        "  return posterior\n",
        "  "
      ],
      "execution_count": 0,
      "outputs": []
    },
    {
      "cell_type": "code",
      "metadata": {
        "id": "UeBnj8t8s1ML",
        "colab_type": "code",
        "colab": {}
      },
      "source": [
        "total_prob = 0    #P(X)\n",
        "PXY = posterior(mean, variance,test[5][0:8])   #prediction on 765 data \n",
        "PYX = [1,1]\n",
        "for i in range(0, 2):\n",
        "        total_prob = total_prob + (PXY[i] * prior[i])     #P(X)\n",
        "for i in range(0, 2):\n",
        "        PYX[i] = (PXY[i] * prior[i])/total_prob"
      ],
      "execution_count": 0,
      "outputs": []
    },
    {
      "cell_type": "code",
      "metadata": {
        "id": "Ir8TlCaLuZ-Z",
        "colab_type": "code",
        "colab": {
          "base_uri": "https://localhost:8080/",
          "height": 54
        },
        "outputId": "167a3cfd-1076-46b2-c31a-16c2db805ac0"
      },
      "source": [
        "print(\"Prediction : \" + str(np.argmax(PYX)))\n",
        "print(\"Actual : \"+ str(test[5,8]))"
      ],
      "execution_count": 48,
      "outputs": [
        {
          "output_type": "stream",
          "text": [
            "Prediction : 0\n",
            "Actual : 0.0\n"
          ],
          "name": "stdout"
        }
      ]
    },
    {
      "cell_type": "code",
      "metadata": {
        "id": "YKi2ZXLkufGO",
        "colab_type": "code",
        "colab": {
          "base_uri": "https://localhost:8080/",
          "height": 35
        },
        "outputId": "72c274ea-6ea4-4455-a45b-d44ab9a9bf85"
      },
      "source": [
        "pwd"
      ],
      "execution_count": 49,
      "outputs": [
        {
          "output_type": "execute_result",
          "data": {
            "text/plain": [
              "'/content'"
            ]
          },
          "metadata": {
            "tags": []
          },
          "execution_count": 49
        }
      ]
    },
    {
      "cell_type": "code",
      "metadata": {
        "id": "a8_1x7WkujV6",
        "colab_type": "code",
        "colab": {}
      },
      "source": [
        ""
      ],
      "execution_count": 0,
      "outputs": []
    }
  ]
}